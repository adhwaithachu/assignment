{
 "cells": [
  {
   "cell_type": "markdown",
   "id": "b84a76d9",
   "metadata": {},
   "source": [
    "#question 1:What is indentation in Python, and why is it important? \n",
    "\n",
    "Indentation means giving spaces or tabs at the beginning of a line of code. It shows which\n",
    "statements belong to the same block (like inside a loop, function, or if statement). Python uses\n",
    "indentation instead of curly braces { }.\n",
    "Importance: Without correct indentation, Python will show an error."
   ]
  },
  {
   "cell_type": "markdown",
   "id": "fad569a6",
   "metadata": {},
   "source": [
    "#question 2:Explain the difference between syntax errors and runtime errors?\n",
    "\n",
    "Syntax Error: Happens when code is written incorrectly (before running). Example: print(\"Hello)\n",
    "Runtime Error: Happens while running the program even if the syntax is correct. Example: 10/0\n",
    "Simple Tip: Syntax error = writing mistake, Runtime error = problem during execution."
   ]
  },
  {
   "cell_type": "markdown",
   "id": "61c57f83",
   "metadata": {},
   "source": [
    "#question 3:How do you assign a value to a variable?\n",
    "\n",
    "Use the assignment operator = \n",
    "Example: x = 10 means the value 10 is stored in variable x."
   ]
  },
  {
   "cell_type": "markdown",
   "id": "51e58cb8",
   "metadata": {},
   "source": [
    "#question 4:What is the difference between mutable and immutable data types?\n",
    "\n",
    "Mutable: Can be changed after creation (e.g., List, Dictionary, Set).\n",
    "Immutable: Cannot be changed after creation (e.g., String, Tuple, Number)."
   ]
  },
  {
   "cell_type": "markdown",
   "id": "d0b6e215",
   "metadata": {},
   "source": [
    "#question 5: What is a lambda function? When is it useful?\n",
    "\n",
    "A lambda function is a small, one-line anonymous function (no name).\n",
    "Example: square = lambda x: x * x\n",
    "Useful when: You need a short function for a simple task, usually used with map(), filter(), or sorted()."
   ]
  },
  {
   "cell_type": "code",
   "execution_count": null,
   "id": "a8e325ce",
   "metadata": {},
   "outputs": [
    {
     "name": "stdout",
     "output_type": "stream",
     "text": [
      "Fibonacci numbers: [0, 1, 1, 2, 3]\n",
      "Sum = 7\n"
     ]
    }
   ],
   "source": [
    "#question 6: Write a program to generate the first n Fibonacci numbers and print their sum. \n",
    "n = int(input(\"Enter how many Fibonacci numbers: \"))\n",
    "a, b = 0, 1\n",
    "fib = []\n",
    "count = 0\n",
    "while count < n:\n",
    "    fib.append(a)\n",
    "    a, b = b, a + b\n",
    "    count += 1\n",
    "\n",
    "print(\"Fibonacci numbers:\", fib)\n",
    "print(\"Sum =\", sum(fib))"
   ]
  },
  {
   "cell_type": "code",
   "execution_count": null,
   "id": "03687b95",
   "metadata": {},
   "outputs": [
    {
     "name": "stdout",
     "output_type": "stream",
     "text": [
      "My name is Adhwaith, I am 21 years old, and I live in Kochi.\n"
     ]
    }
   ],
   "source": [
    "#question 7: recreate 3 variables name, age and city. Assign your details and print them in one sentence. \n",
    "name = \"Adhwaith\"\n",
    "age = 21\n",
    "city = \"Kochi\"\n",
    "\n",
    "print(\"My name is \" + name + \", I am \" + str(age) + \" years old, and I live in \" + city + \".\")"
   ]
  },
  {
   "cell_type": "code",
   "execution_count": 3,
   "id": "7f482579",
   "metadata": {},
   "outputs": [
    {
     "name": "stdout",
     "output_type": "stream",
     "text": [
      "After swapping: a = 10 , b = 5\n"
     ]
    }
   ],
   "source": [
    "#question 8: Write a program that swaps the values of two variables. \n",
    "a = 5\n",
    "b = 10\n",
    "a = a + b   # a = 15\n",
    "b = a - b   # b = 5\n",
    "a = a - b   # a = 10\n",
    "print(\"After swapping: a =\", a, \", b =\", b)"
   ]
  },
  {
   "cell_type": "code",
   "execution_count": null,
   "id": "8272ba07",
   "metadata": {},
   "outputs": [
    {
     "name": "stdout",
     "output_type": "stream",
     "text": [
      "Area of the rectangle = 50\n"
     ]
    }
   ],
   "source": [
    "#question 9:Write a program to calculate the area of a rectangle using variables length and width.\n",
    "length = 10\n",
    "width = 5\n",
    "area = length * width\n",
    "print(\"Area of the rectangle =\", area)"
   ]
  },
  {
   "cell_type": "code",
   "execution_count": null,
   "id": "07a37273",
   "metadata": {},
   "outputs": [
    {
     "name": "stdout",
     "output_type": "stream",
     "text": [
      "Result = 150\n"
     ]
    }
   ],
   "source": [
    "#question 10:Write a Python program that converts a string “50” into an integer and add 100 to it. \n",
    "num_str = \"50\"\n",
    "num_int = int(num_str)\n",
    "result = num_int + 100\n",
    "print(\"Result =\", result)"
   ]
  },
  {
   "cell_type": "code",
   "execution_count": null,
   "id": "343f1a7c",
   "metadata": {},
   "outputs": [
    {
     "name": "stdout",
     "output_type": "stream",
     "text": [
      "Modified tuple: (1, 5, 3)\n"
     ]
    }
   ],
   "source": [
    "#question 11:Create a tuple of 3 elements and try to change one element. Observe and explain the error\n",
    "t = (1, 2, 3)\n",
    "temp_list = list(t)\n",
    "temp_list[1] = 5\n",
    "t = tuple(temp_list)\n",
    "print(\"Modified tuple:\", t)"
   ]
  },
  {
   "cell_type": "code",
   "execution_count": null,
   "id": "5379e7cf",
   "metadata": {},
   "outputs": [
    {
     "name": "stdout",
     "output_type": "stream",
     "text": [
      "They have common elements.\n"
     ]
    }
   ],
   "source": [
    "#question 12:Write a program that checks if two lists have at least one element in common using sets.\n",
    "\n",
    "list1 = [1, 2, 3, 4]\n",
    "list2 = [3, 5, 6]\n",
    "\n",
    "if set(list1) & set(list2):\n",
    "    print(\"They have common elements.\")\n",
    "else:\n",
    "    print(\"No common elements.\")\n",
    "\n"
   ]
  },
  {
   "cell_type": "code",
   "execution_count": 9,
   "id": "b12057bf",
   "metadata": {},
   "outputs": [
    {
     "name": "stdout",
     "output_type": "stream",
     "text": [
      "True\n",
      "False\n"
     ]
    }
   ],
   "source": [
    "#question 13:Write a function is_prime (n) that checks whether a number is prime or not.\n",
    "def is_prime(n):\n",
    "    if n <= 1:\n",
    "        return False\n",
    "    for i in range(2, n):\n",
    "        if n % i == 0:\n",
    "            return False\n",
    "    return True\n",
    "\n",
    "print(is_prime(7))\n",
    "print(is_prime(10))"
   ]
  },
  {
   "cell_type": "code",
   "execution_count": 10,
   "id": "4a286366",
   "metadata": {},
   "outputs": [
    {
     "name": "stdout",
     "output_type": "stream",
     "text": [
      "True\n",
      "False\n"
     ]
    }
   ],
   "source": [
    "#question 14: Write a function is_palindrome(word) that returns True if the word is palindrome. \n",
    "def is_palindrome(word):\n",
    "    for i in range(len(word)//2):\n",
    "        if word[i] != word[-(i+1)]:\n",
    "            return False\n",
    "    return True\n",
    "\n",
    "print(is_palindrome(\"level\"))\n",
    "print(is_palindrome(\"world\"))"
   ]
  },
  {
   "cell_type": "code",
   "execution_count": 14,
   "id": "4beeeaf2",
   "metadata": {},
   "outputs": [
    {
     "name": "stdout",
     "output_type": "stream",
     "text": [
      "Result = 1.6666666666666667\n"
     ]
    }
   ],
   "source": [
    "#question 15:Write a python program to create a simple calculator using functions.\n",
    "def calculator(a, b, op):\n",
    "    if op == '+':\n",
    "        return a + b\n",
    "    elif op == '-':\n",
    "        return a - b\n",
    "    elif op == '*':\n",
    "        return a * b\n",
    "    elif op == '/':\n",
    "        return a / b if b != 0 else \"Division by zero!\"\n",
    "    else:\n",
    "        return \"Invalid operator\"\n",
    "\n",
    "a = 10\n",
    "b = 6\n",
    "op = '/'\n",
    "print(\"Result =\", calculator(a, b, op))"
   ]
  },
  {
   "cell_type": "code",
   "execution_count": 13,
   "id": "1f5a99b0",
   "metadata": {},
   "outputs": [
    {
     "name": "stdout",
     "output_type": "stream",
     "text": [
      "Odd number\n",
      "Even number\n"
     ]
    }
   ],
   "source": [
    "#question 16:Write a function check_even_odd(num) that takes a number and prints whether its even or odd \n",
    "def check_even_odd(num):\n",
    "    if num % 2 == 0:\n",
    "        print(\"Even number\")\n",
    "    else:\n",
    "        print(\"Odd number\")\n",
    "\n",
    "check_even_odd(5)\n",
    "check_even_odd(12)"
   ]
  },
  {
   "cell_type": "code",
   "execution_count": 16,
   "id": "e5a151ff",
   "metadata": {},
   "outputs": [
    {
     "name": "stdout",
     "output_type": "stream",
     "text": [
      "3002\n",
      "3891\n"
     ]
    }
   ],
   "source": [
    "#question 17:Write a function reverse_number(n) that returns the reverse of a number.\n",
    "def reverse_number(n, rev=0):\n",
    "    if n == 0:\n",
    "        return rev\n",
    "    else:\n",
    "        return reverse_number(n // 10, rev * 10 + n % 10)\n",
    "\n",
    "print(reverse_number(2003))\n",
    "print(reverse_number(1983))"
   ]
  },
  {
   "cell_type": "code",
   "execution_count": 17,
   "id": "8875309a",
   "metadata": {},
   "outputs": [
    {
     "name": "stdout",
     "output_type": "stream",
     "text": [
      "Division successful! Result = 2.0\n",
      "Program ended.\n"
     ]
    }
   ],
   "source": [
    "#question 18: Write a program using try, except, else and finally together. \n",
    "try:\n",
    "    num = int(input(\"Enter a number: \"))\n",
    "    result = 10 / num\n",
    "except ZeroDivisionError:\n",
    "    print(\"Error: Cannot divide by zero.\")\n",
    "except ValueError:\n",
    "    print(\"Error: Invalid input. Please enter a number.\")\n",
    "else:\n",
    "    print(\"Division successful! Result =\", result)\n",
    "finally:\n",
    "    print(\"Program ended.\")\n"
   ]
  }
 ],
 "metadata": {
  "kernelspec": {
   "display_name": "Python 3",
   "language": "python",
   "name": "python3"
  },
  "language_info": {
   "codemirror_mode": {
    "name": "ipython",
    "version": 3
   },
   "file_extension": ".py",
   "mimetype": "text/x-python",
   "name": "python",
   "nbconvert_exporter": "python",
   "pygments_lexer": "ipython3",
   "version": "3.13.7"
  }
 },
 "nbformat": 4,
 "nbformat_minor": 5
}
